{
  "nbformat": 4,
  "nbformat_minor": 0,
  "metadata": {
    "colab": {
      "provenance": [],
      "authorship_tag": "ABX9TyM1uqrKtPaOeYR+aTxlbU3p",
      "include_colab_link": true
    },
    "kernelspec": {
      "name": "python3",
      "display_name": "Python 3"
    },
    "language_info": {
      "name": "python"
    }
  },
  "cells": [
    {
      "cell_type": "markdown",
      "metadata": {
        "id": "view-in-github",
        "colab_type": "text"
      },
      "source": [
        "<a href=\"https://colab.research.google.com/github/bsikdar1986/Hackathon/blob/main/Demand_Forecasting_SCM_Hackathon.ipynb\" target=\"_parent\"><img src=\"https://colab.research.google.com/assets/colab-badge.svg\" alt=\"Open In Colab\"/></a>"
      ]
    },
    {
      "cell_type": "markdown",
      "source": [
        "#Hackathon on Demand Forecasting -Supply Chain Management"
      ],
      "metadata": {
        "id": "AmtoynrPEU0S"
      }
    },
    {
      "cell_type": "markdown",
      "source": [
        "##Experimentation- Phase 1- Data Exploration"
      ],
      "metadata": {
        "id": "KeXyzUGoEvea"
      }
    },
    {
      "cell_type": "markdown",
      "source": [
        "###Import required packages"
      ],
      "metadata": {
        "id": "JivaBDqMF8Ev"
      }
    },
    {
      "cell_type": "code",
      "source": [],
      "metadata": {
        "id": "Iay1yswDGFcW"
      },
      "execution_count": null,
      "outputs": []
    },
    {
      "cell_type": "markdown",
      "source": [
        "### Load Dataset -this is change"
      ],
      "metadata": {
        "id": "UX_IGuhpFUPd"
      }
    },
    {
      "cell_type": "code",
      "execution_count": null,
      "metadata": {
        "id": "i2E_zGmRELwj"
      },
      "outputs": [],
      "source": []
    },
    {
      "cell_type": "markdown",
      "source": [
        "###EDA"
      ],
      "metadata": {
        "id": "BR0OB-2GFb-G"
      }
    }
  ]
}